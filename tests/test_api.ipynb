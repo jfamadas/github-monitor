{
 "cells": [
  {
   "cell_type": "code",
   "execution_count": 1,
   "id": "9a9cbedb",
   "metadata": {},
   "outputs": [],
   "source": [
    "import requests\n",
    "\n",
    "BASE = \"http://127.0.0.1:5000/\""
   ]
  },
  {
   "cell_type": "markdown",
   "id": "a3192602",
   "metadata": {},
   "source": [
    "### (Tests performed after letting the extractor running for 30 minutes)"
   ]
  },
  {
   "cell_type": "markdown",
   "id": "ae4d2e04",
   "metadata": {},
   "source": [
    "# Time between pull requests events\n",
    "\n",
    "### repo: thoth-station/prescriptions  (many pull requests)"
   ]
  },
  {
   "cell_type": "code",
   "execution_count": 2,
   "id": "8362a457",
   "metadata": {},
   "outputs": [
    {
     "data": {
      "text/plain": [
       "{'average_time': 4.628571428571429}"
      ]
     },
     "execution_count": 2,
     "metadata": {},
     "output_type": "execute_result"
    }
   ],
   "source": [
    "requests.get(BASE + \"time-between-requests/thoth-station/prescriptions\").json()"
   ]
  },
  {
   "cell_type": "markdown",
   "id": "7bba59ff",
   "metadata": {},
   "source": [
    "### PaddlePaddle/Paddle (2 pull requests)"
   ]
  },
  {
   "cell_type": "code",
   "execution_count": 3,
   "id": "b1426403",
   "metadata": {},
   "outputs": [
    {
     "data": {
      "text/plain": [
       "{'average_time': 8732.0}"
      ]
     },
     "execution_count": 3,
     "metadata": {},
     "output_type": "execute_result"
    }
   ],
   "source": [
    "requests.get(BASE + \"time-between-requests/PaddlePaddle/Paddle\").json()"
   ]
  },
  {
   "cell_type": "markdown",
   "id": "6911b354",
   "metadata": {},
   "source": [
    "### AmanoTeam/PyKorone (1 pull request, should give a 'not enough data' error)"
   ]
  },
  {
   "cell_type": "code",
   "execution_count": 4,
   "id": "933bb0d1",
   "metadata": {},
   "outputs": [
    {
     "data": {
      "text/plain": [
       "{'Insuficient Data': 'The selected repository does not have enough Pull Requests to compute an average.'}"
      ]
     },
     "execution_count": 4,
     "metadata": {},
     "output_type": "execute_result"
    }
   ],
   "source": [
    "requests.get(BASE + \"time-between-requests/AmanoTeam/PyKorone\").json()"
   ]
  },
  {
   "cell_type": "markdown",
   "id": "4c1abadb",
   "metadata": {},
   "source": [
    "# Number of events grouped by type\n",
    "\n",
    "### Last 10 minutes"
   ]
  },
  {
   "cell_type": "code",
   "execution_count": 5,
   "id": "aeefd10a",
   "metadata": {},
   "outputs": [
    {
     "data": {
      "text/plain": [
       "{'IssuesEvent': 499, 'PullRequestEvent': 2197, 'WatchEvent': 1114}"
      ]
     },
     "execution_count": 5,
     "metadata": {},
     "output_type": "execute_result"
    }
   ],
   "source": [
    "requests.get(BASE + \"events-by-type/10\").json()"
   ]
  },
  {
   "cell_type": "markdown",
   "id": "876c8f51",
   "metadata": {},
   "source": [
    "### Last 20 minutes"
   ]
  },
  {
   "cell_type": "code",
   "execution_count": 6,
   "id": "f2e76ee8",
   "metadata": {},
   "outputs": [
    {
     "data": {
      "text/plain": [
       "{'IssuesEvent': 997, 'PullRequestEvent': 4886, 'WatchEvent': 2324}"
      ]
     },
     "execution_count": 6,
     "metadata": {},
     "output_type": "execute_result"
    }
   ],
   "source": [
    "requests.get(BASE + \"events-by-type/20\").json()"
   ]
  },
  {
   "cell_type": "markdown",
   "id": "71f50ed9",
   "metadata": {},
   "source": [
    "### Last 30 minutes"
   ]
  },
  {
   "cell_type": "code",
   "execution_count": 7,
   "id": "e3024c9a",
   "metadata": {},
   "outputs": [
    {
     "data": {
      "text/plain": [
       "{'IssuesEvent': 1512, 'PullRequestEvent': 7091, 'WatchEvent': 3349}"
      ]
     },
     "execution_count": 7,
     "metadata": {},
     "output_type": "execute_result"
    }
   ],
   "source": [
    "requests.get(BASE + \"events-by-type/30\").json()"
   ]
  }
 ],
 "metadata": {
  "kernelspec": {
   "display_name": "Python 3 (ipykernel)",
   "language": "python",
   "name": "python3"
  },
  "language_info": {
   "codemirror_mode": {
    "name": "ipython",
    "version": 3
   },
   "file_extension": ".py",
   "mimetype": "text/x-python",
   "name": "python",
   "nbconvert_exporter": "python",
   "pygments_lexer": "ipython3",
   "version": "3.10.4"
  }
 },
 "nbformat": 4,
 "nbformat_minor": 5
}
